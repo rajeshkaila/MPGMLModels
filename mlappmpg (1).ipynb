{
 "cells": [
  {
   "cell_type": "code",
   "execution_count": 1,
   "id": "404dba0e-1c48-4f8c-a253-1e6def85c5f0",
   "metadata": {},
   "outputs": [],
   "source": [
    "import pandas as pd\n",
    "import numpy as np\n",
    "import streamlit as st\n",
    "\n",
    "from sklearn.linear_model import LinearRegression\n",
    "from sklearn.tree import DecisionTreeRegressor\n",
    "from sklearn.ensemble import RandomForestRegressor\n",
    "from sklearn.ensemble import GradientBoostingRegressor"
   ]
  },
  {
   "cell_type": "code",
   "execution_count": 3,
   "id": "ba577fee-c35e-4a6d-b8be-4bdc8cadb8b3",
   "metadata": {},
   "outputs": [
    {
     "name": "stdout",
     "output_type": "stream",
     "text": [
      "C:\\Users\\kaila\\OneDrive\\Desktop\\AutoMPG\n"
     ]
    }
   ],
   "source": [
    "import io\n",
    "%cd \"C:\\Users\\kaila\\OneDrive\\Desktop\\AutoMPG\""
   ]
  },
  {
   "cell_type": "code",
   "execution_count": 4,
   "id": "c5badb63-d3de-42a0-858c-12c17089b9bf",
   "metadata": {},
   "outputs": [],
   "source": [
    "mpgdf=pd.read_csv(\"Auto MPG Reg.csv\")"
   ]
  },
  {
   "cell_type": "code",
   "execution_count": 6,
   "id": "0dee85e1-856a-4c5a-a71f-127415f1c357",
   "metadata": {},
   "outputs": [],
   "source": [
    "mpgdf.horsepower=pd.to_numeric(mpgdf.horsepower,errors=\"coerce\")"
   ]
  },
  {
   "cell_type": "code",
   "execution_count": 7,
   "id": "cffd7bf7-da96-4956-ad27-bb5bef4d0d44",
   "metadata": {},
   "outputs": [],
   "source": [
    "mpgdf.horsepower=mpgdf.horsepower.fillna(mpgdf.horsepower.median())"
   ]
  },
  {
   "cell_type": "code",
   "execution_count": 8,
   "id": "d7896c6c-74ee-4a34-b03f-73abc5208767",
   "metadata": {},
   "outputs": [],
   "source": [
    "# Split Data\n",
    "y=mpgdf.mpg\n",
    "X=mpgdf.drop(['carname','mpg'],axis=1)"
   ]
  },
  {
   "cell_type": "code",
   "execution_count": 12,
   "id": "7252bc2b-039d-495e-a4f9-dca0f80dbf47",
   "metadata": {},
   "outputs": [],
   "source": [
    "# Define Multiple Models as a Dictionary\n",
    "models={'Linear Regression':LinearRegression(),'Decision Tree':DecisionTreeRegressor(),\n",
    "        'Random Forest':RandomForestRegressor(),'Gradient Boosting':GradientBoostingRegressor()}"
   ]
  },
  {
   "cell_type": "code",
   "execution_count": 10,
   "id": "eb6f4dfb-4cdc-4a1c-acd5-93b730c075c7",
   "metadata": {},
   "outputs": [
    {
     "name": "stderr",
     "output_type": "stream",
     "text": [
      "2024-02-06 14:33:22.970 \n",
      "  \u001b[33m\u001b[1mWarning:\u001b[0m to view this Streamlit app on a browser, run it with the following\n",
      "  command:\n",
      "\n",
      "    streamlit run C:\\Users\\kaila\\anaconda3\\Lib\\site-packages\\ipykernel_launcher.py [ARGUMENTS]\n"
     ]
    }
   ],
   "source": [
    "# Sidebar for Model Selection\n",
    "selected_model=st.sidebar.selectbox(\"Select a ML Model\",list(models.keys()))"
   ]
  },
  {
   "cell_type": "code",
   "execution_count": 17,
   "id": "110062ee-c4f6-45e6-81fc-2773d934b766",
   "metadata": {},
   "outputs": [],
   "source": [
    "# ML Model Selection Parameters\n",
    "if selected_model=='Linear Regression':\n",
    "    model=LinearRegression()\n",
    "elif selected_model=='Decision Tree':\n",
    "    max_depth=st.sidebar.slider(\"max_depth\",8,16,2)\n",
    "    model=DecisionTreeRegressor(max_depth=max_depth)\n",
    "elif selected_model=='Random Forest':\n",
    "    n_estimators=st.sidebar.slider(\"Num of Trees\",100,500,50)\n",
    "    model=RandomForestRegressor(n_estimators=n_estimators)\n",
    "elif selected_model=='Gradient Boosting':\n",
    "    n_estimators=st.sidebar.slider(\"Num of Trees\",100,500,50)\n",
    "    model=GradientBoostingRegressor(n_estimators=n_estimators)"
   ]
  },
  {
   "cell_type": "code",
   "execution_count": 18,
   "id": "a7fa3577-0e6b-473f-82cc-7d5450162728",
   "metadata": {},
   "outputs": [
    {
     "data": {
      "text/html": [
       "<style>#sk-container-id-1 {color: black;background-color: white;}#sk-container-id-1 pre{padding: 0;}#sk-container-id-1 div.sk-toggleable {background-color: white;}#sk-container-id-1 label.sk-toggleable__label {cursor: pointer;display: block;width: 100%;margin-bottom: 0;padding: 0.3em;box-sizing: border-box;text-align: center;}#sk-container-id-1 label.sk-toggleable__label-arrow:before {content: \"▸\";float: left;margin-right: 0.25em;color: #696969;}#sk-container-id-1 label.sk-toggleable__label-arrow:hover:before {color: black;}#sk-container-id-1 div.sk-estimator:hover label.sk-toggleable__label-arrow:before {color: black;}#sk-container-id-1 div.sk-toggleable__content {max-height: 0;max-width: 0;overflow: hidden;text-align: left;background-color: #f0f8ff;}#sk-container-id-1 div.sk-toggleable__content pre {margin: 0.2em;color: black;border-radius: 0.25em;background-color: #f0f8ff;}#sk-container-id-1 input.sk-toggleable__control:checked~div.sk-toggleable__content {max-height: 200px;max-width: 100%;overflow: auto;}#sk-container-id-1 input.sk-toggleable__control:checked~label.sk-toggleable__label-arrow:before {content: \"▾\";}#sk-container-id-1 div.sk-estimator input.sk-toggleable__control:checked~label.sk-toggleable__label {background-color: #d4ebff;}#sk-container-id-1 div.sk-label input.sk-toggleable__control:checked~label.sk-toggleable__label {background-color: #d4ebff;}#sk-container-id-1 input.sk-hidden--visually {border: 0;clip: rect(1px 1px 1px 1px);clip: rect(1px, 1px, 1px, 1px);height: 1px;margin: -1px;overflow: hidden;padding: 0;position: absolute;width: 1px;}#sk-container-id-1 div.sk-estimator {font-family: monospace;background-color: #f0f8ff;border: 1px dotted black;border-radius: 0.25em;box-sizing: border-box;margin-bottom: 0.5em;}#sk-container-id-1 div.sk-estimator:hover {background-color: #d4ebff;}#sk-container-id-1 div.sk-parallel-item::after {content: \"\";width: 100%;border-bottom: 1px solid gray;flex-grow: 1;}#sk-container-id-1 div.sk-label:hover label.sk-toggleable__label {background-color: #d4ebff;}#sk-container-id-1 div.sk-serial::before {content: \"\";position: absolute;border-left: 1px solid gray;box-sizing: border-box;top: 0;bottom: 0;left: 50%;z-index: 0;}#sk-container-id-1 div.sk-serial {display: flex;flex-direction: column;align-items: center;background-color: white;padding-right: 0.2em;padding-left: 0.2em;position: relative;}#sk-container-id-1 div.sk-item {position: relative;z-index: 1;}#sk-container-id-1 div.sk-parallel {display: flex;align-items: stretch;justify-content: center;background-color: white;position: relative;}#sk-container-id-1 div.sk-item::before, #sk-container-id-1 div.sk-parallel-item::before {content: \"\";position: absolute;border-left: 1px solid gray;box-sizing: border-box;top: 0;bottom: 0;left: 50%;z-index: -1;}#sk-container-id-1 div.sk-parallel-item {display: flex;flex-direction: column;z-index: 1;position: relative;background-color: white;}#sk-container-id-1 div.sk-parallel-item:first-child::after {align-self: flex-end;width: 50%;}#sk-container-id-1 div.sk-parallel-item:last-child::after {align-self: flex-start;width: 50%;}#sk-container-id-1 div.sk-parallel-item:only-child::after {width: 0;}#sk-container-id-1 div.sk-dashed-wrapped {border: 1px dashed gray;margin: 0 0.4em 0.5em 0.4em;box-sizing: border-box;padding-bottom: 0.4em;background-color: white;}#sk-container-id-1 div.sk-label label {font-family: monospace;font-weight: bold;display: inline-block;line-height: 1.2em;}#sk-container-id-1 div.sk-label-container {text-align: center;}#sk-container-id-1 div.sk-container {/* jupyter's `normalize.less` sets `[hidden] { display: none; }` but bootstrap.min.css set `[hidden] { display: none !important; }` so we also need the `!important` here to be able to override the default hidden behavior on the sphinx rendered scikit-learn.org. See: https://github.com/scikit-learn/scikit-learn/issues/21755 */display: inline-block !important;position: relative;}#sk-container-id-1 div.sk-text-repr-fallback {display: none;}</style><div id=\"sk-container-id-1\" class=\"sk-top-container\"><div class=\"sk-text-repr-fallback\"><pre>LinearRegression()</pre><b>In a Jupyter environment, please rerun this cell to show the HTML representation or trust the notebook. <br />On GitHub, the HTML representation is unable to render, please try loading this page with nbviewer.org.</b></div><div class=\"sk-container\" hidden><div class=\"sk-item\"><div class=\"sk-estimator sk-toggleable\"><input class=\"sk-toggleable__control sk-hidden--visually\" id=\"sk-estimator-id-1\" type=\"checkbox\" checked><label for=\"sk-estimator-id-1\" class=\"sk-toggleable__label sk-toggleable__label-arrow\">LinearRegression</label><div class=\"sk-toggleable__content\"><pre>LinearRegression()</pre></div></div></div></div></div>"
      ],
      "text/plain": [
       "LinearRegression()"
      ]
     },
     "execution_count": 18,
     "metadata": {},
     "output_type": "execute_result"
    }
   ],
   "source": [
    "# Train the Model\n",
    "model.fit(X,y)"
   ]
  },
  {
   "cell_type": "code",
   "execution_count": 21,
   "id": "255f7736-4ddc-4983-af7b-f5915c6d7816",
   "metadata": {},
   "outputs": [],
   "source": [
    "# Define the Application Page parameters\n",
    "st.title(\"Predict Mileage per Gallon\")\n",
    "st.markdown(\"Model to Predict Mileage of Car\")\n",
    "st.header(\"Car Features\")\n",
    "\n",
    "col1,col2,col3,col4=st.columns(4)\n",
    "with col1:\n",
    "    cylinders=st.slider(\"Cylinders\",2,8,1)\n",
    "    displacement=st.slider(\"Displacement\",50,500,10)\n",
    "with col2:\n",
    "    horsepower=st.slider(\"HorsePower\",50,500,10)\n",
    "    weight=st.slider(\"Weight\",1500,6000,250)\n",
    "with col3:\n",
    "    acceleration=st.slider(\"Accel\",8,25,1)\n",
    "    modelyear=st.slider(\"year\",70,85,1)\n",
    "with col4:\n",
    "    origin=st.slider(\"origin\",1,3,1)"
   ]
  },
  {
   "cell_type": "code",
   "execution_count": 22,
   "id": "4b94d996-aa09-427b-ac67-6bfc688df69f",
   "metadata": {},
   "outputs": [
    {
     "name": "stderr",
     "output_type": "stream",
     "text": [
      "C:\\Users\\kaila\\anaconda3\\Lib\\site-packages\\sklearn\\base.py:439: UserWarning: X does not have valid feature names, but LinearRegression was fitted with feature names\n",
      "  warnings.warn(\n"
     ]
    }
   ],
   "source": [
    "# Model Predictions\n",
    "rsquare=model.score(X,y)\n",
    "y_pred=model.predict(np.array([[cylinders,displacement,horsepower,weight,acceleration,modelyear,\n",
    "                                origin]]))"
   ]
  },
  {
   "cell_type": "code",
   "execution_count": 23,
   "id": "6ade7eb4-3fa8-4647-905c-eb327cc7f262",
   "metadata": {},
   "outputs": [],
   "source": [
    "# Display Results\n",
    "st.header(\"ML Model Results\")\n",
    "st.write(f\"Selected Model: {selected_model}\")\n",
    "st.write(f\"RSquare:{rsquare}\")\n",
    "st.write(f\"Predicted:{y_pred}\")"
   ]
  },
  {
   "cell_type": "code",
   "execution_count": 34,
   "id": "99dd42bf-195f-4796-a399-f541ab5a6b50",
   "metadata": {},
   "outputs": [
    {
     "name": "stdout",
     "output_type": "stream",
     "text": [
      "2.1.4\n",
      "1.26.3\n",
      "1.2.2\n",
      "1.31.0\n"
     ]
    }
   ],
   "source": [
    "print(pd.__version__)\n",
    "print(np.__version__)\n",
    "import sklearn\n",
    "print(sklearn.__version__)\n",
    "print(st.__version__)"
   ]
  },
  {
   "cell_type": "code",
   "execution_count": null,
   "id": "d5ffe3e6-c2b1-4fba-b86b-18060ded1bce",
   "metadata": {},
   "outputs": [],
   "source": []
  }
 ],
 "metadata": {
  "kernelspec": {
   "display_name": "Python 3 (ipykernel)",
   "language": "python",
   "name": "python3"
  },
  "language_info": {
   "codemirror_mode": {
    "name": "ipython",
    "version": 3
   },
   "file_extension": ".py",
   "mimetype": "text/x-python",
   "name": "python",
   "nbconvert_exporter": "python",
   "pygments_lexer": "ipython3",
   "version": "3.11.7"
  }
 },
 "nbformat": 4,
 "nbformat_minor": 5
}
